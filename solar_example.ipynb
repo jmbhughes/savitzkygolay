{
 "cells": [
  {
   "cell_type": "markdown",
   "metadata": {},
   "source": [
    "# Example of Using Savitzky Golay Filter with Solar Images "
   ]
  },
  {
   "cell_type": "markdown",
   "metadata": {},
   "source": [
    "This notebook illustrates how to load and use the 3D savitzky golay filters in this data to denoise solar images. "
   ]
  },
  {
   "cell_type": "code",
   "execution_count": 5,
   "metadata": {},
   "outputs": [],
   "source": [
    "import savitzkygolay\n",
    "import numpy as np\n",
    "import matplotlib.pyplot as plt\n",
    "%matplotlib notebook\n",
    "from astropy.io import fits\n",
    "from glob import glob\n",
    "import os"
   ]
  },
  {
   "cell_type": "markdown",
   "metadata": {},
   "source": [
    "#### Load Data"
   ]
  },
  {
   "cell_type": "markdown",
   "metadata": {},
   "source": [
    "First we load the data into one `numpy` array. "
   ]
  },
  {
   "cell_type": "code",
   "execution_count": 11,
   "metadata": {},
   "outputs": [],
   "source": [
    "# change the directory to whatever is appropriate\n",
    "directory = \"/media/marcushughes/data/offpoint195/stray_removed/Subtracted_FITS/\"\n",
    "fns = sorted(glob(directory + \"*.fits\"))\n",
    "data = []\n",
    "for fn in fns:\n",
    "    with fits.open(fn) as f:\n",
    "        data.append(f[0].data.copy())\n",
    "data = np.array(data)"
   ]
  },
  {
   "cell_type": "markdown",
   "metadata": {},
   "source": [
    "#### Smoothing "
   ]
  },
  {
   "cell_type": "markdown",
   "metadata": {},
   "source": [
    "Smoothing is relatively easy, assuming you want a uniform order for the polynomial, as opposed to different orders in the different dimensions. You run the command below and wait a few seconds for completion.  "
   ]
  },
  {
   "cell_type": "code",
   "execution_count": null,
   "metadata": {},
   "outputs": [],
   "source": [
    "window_size = 7\n",
    "poly_order = 3\n",
    "smoothed = savitzkygolay.filter3D(data, window_size, poly_order)"
   ]
  },
  {
   "cell_type": "markdown",
   "metadata": {},
   "source": [
    "#### Preview"
   ]
  },
  {
   "cell_type": "markdown",
   "metadata": {},
   "source": [
    "You can preview the data however you want. The two functions below were designed for the specific dataset. "
   ]
  },
  {
   "cell_type": "code",
   "execution_count": null,
   "metadata": {},
   "outputs": [],
   "source": [
    "vmin, vmax, power = 0.3, 0.8, 0.25\n",
    "fig, axs = plt.subplots(ncols=2, sharex=True, sharey=True)\n",
    "axs[0].imshow(np.power(data[100,:,:], power), vmin=vmin, vmax=vmax, origin='lower')\n",
    "axs[1].imshow(np.power(smoothed[100,:,:], power), vmin=vmin, vmax=vmax, origin='lower')\n",
    "fig.show()"
   ]
  },
  {
   "cell_type": "code",
   "execution_count": null,
   "metadata": {},
   "outputs": [],
   "source": [
    "vmin, vmax, power = 0.0, 0.8, 1\n",
    "fig, axs = plt.subplots(ncols=1, sharex=True, sharey=True)\n",
    "axs.imshow(np.power(np.abs(data[100,:,:] -smoothed[100,:,:]) , power), vmin=vmin, vmax=vmax, origin='lower')\n",
    "fig.show()"
   ]
  },
  {
   "cell_type": "markdown",
   "metadata": {},
   "source": [
    "#### Writing out"
   ]
  },
  {
   "cell_type": "markdown",
   "metadata": {},
   "source": [
    "Specify the out directory and this will write simple fits images. "
   ]
  },
  {
   "cell_type": "code",
   "execution_count": 14,
   "metadata": {},
   "outputs": [],
   "source": [
    "out_dir = \"/media/marcushughes/data/offpoint171/filtered3D_7_3/\"\n",
    "for i, fn in enumerate(fns):\n",
    "    new_fn = out_dir + os.path.basename(fn).replace(\".fits\", \"_filtered.fits\")\n",
    "    fits.writeto(new_fn, smoothed[i,:,:])"
   ]
  }
 ],
 "metadata": {
  "kernelspec": {
   "display_name": "Python 3",
   "language": "python",
   "name": "python3"
  },
  "language_info": {
   "codemirror_mode": {
    "name": "ipython",
    "version": 3
   },
   "file_extension": ".py",
   "mimetype": "text/x-python",
   "name": "python",
   "nbconvert_exporter": "python",
   "pygments_lexer": "ipython3",
   "version": "3.7.3"
  }
 },
 "nbformat": 4,
 "nbformat_minor": 2
}
